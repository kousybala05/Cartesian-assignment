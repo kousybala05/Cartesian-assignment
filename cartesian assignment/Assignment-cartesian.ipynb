{
 "cells": [
  {
   "cell_type": "markdown",
   "id": "13967558",
   "metadata": {},
   "source": [
    "# cartesian assignment"
   ]
  },
  {
   "cell_type": "markdown",
   "id": "4d0f215c",
   "metadata": {},
   "source": [
    "The problem Statement\n",
    "The program takes input a short abstract and outputs the following\n",
    "•\tprints each word in reverse.  \n",
    "•\tprints Top 2 occurring words in sorted order. The words that have occurred most of the time.\n"
   ]
  },
  {
   "cell_type": "code",
   "execution_count": 29,
   "id": "dea29634",
   "metadata": {},
   "outputs": [
    {
     "name": "stdout",
     "output_type": "stream",
     "text": [
      "Europe united a of era this in internet the for vision positive a advance to partners declaration among commitment political a represents declaration this \n",
      "a \t:  3 times\n",
      "this \t:  2 times\n"
     ]
    }
   ],
   "source": [
    "\n",
    "message='''This declaration represents a political commitment among declaration partners to advance a positive vision for the Internet in this era of a united europe'''\n",
    "k=message.split()\n",
    "l=k[::-1]\n",
    "new_m=''\n",
    "for i in l:\n",
    "    new_m+=i\n",
    "    new_m+=' '\n",
    "print(new_m.capitalize())\n",
    "from collections import Counter\n",
    "def word_count(str):\n",
    "    counts = dict()\n",
    "    words = str.split()\n",
    "\n",
    "    for word in words:\n",
    "        if word in counts:\n",
    "            counts[word] += 1\n",
    "        else:\n",
    "            counts[word] = 1\n",
    "\n",
    "    return counts\n",
    "s=word_count(message.lower())\n",
    "result=dict(Counter(s).most_common(2))\n",
    "\n",
    "for key in sorted(result.keys()) :\n",
    "    print(key , \"\\t: \" , result[key],'times')"
   ]
  },
  {
   "cell_type": "code",
   "execution_count": null,
   "id": "30bf91d6",
   "metadata": {},
   "outputs": [],
   "source": []
  }
 ],
 "metadata": {
  "kernelspec": {
   "display_name": "Python 3 (ipykernel)",
   "language": "python",
   "name": "python3"
  },
  "language_info": {
   "codemirror_mode": {
    "name": "ipython",
    "version": 3
   },
   "file_extension": ".py",
   "mimetype": "text/x-python",
   "name": "python",
   "nbconvert_exporter": "python",
   "pygments_lexer": "ipython3",
   "version": "3.9.7"
  }
 },
 "nbformat": 4,
 "nbformat_minor": 5
}
